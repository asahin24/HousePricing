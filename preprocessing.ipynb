{
 "cells": [
  {
   "cell_type": "code",
   "execution_count": 22,
   "metadata": {},
   "outputs": [],
   "source": [
    "import numpy as np\n",
    "import pandas as pd\n",
    "import copy\n",
    "import missing_values as msv\n",
    "import importlib\n",
    "\n",
    "# Read the training data\n",
    "import os\n",
    "train_file_path = os.getcwd() + '/house-prices-advanced-regression-techniques/train.csv'\n",
    "test_file_path = os.getcwd() + '/house-prices-advanced-regression-techniques/test.csv'\n",
    "data = pd.read_csv(train_file_path)\n",
    "test = pd.read_csv(test_file_path)"
   ]
  },
  {
   "cell_type": "code",
   "execution_count": 23,
   "metadata": {},
   "outputs": [],
   "source": [
    "# Drop 'Id' from training and test data\n",
    "data.drop('Id',axis=1,inplace=True)\n",
    "test.drop('Id',axis=1,inplace=True)\n",
    "y = data['SalePrice']\n",
    "# drop 'SalePrice' from training data\n",
    "train = data.drop('SalePrice', axis=1)"
   ]
  },
  {
   "cell_type": "code",
   "execution_count": 24,
   "metadata": {},
   "outputs": [],
   "source": [
    "import encoding\n",
    "importlib.reload(encoding)\n",
    "data_encoded, enc = encoding.my_encoder(train)\n",
    "test_encoded = encoding.my_encoder(test, enc)\n"
   ]
  },
  {
   "cell_type": "code",
   "execution_count": 25,
   "metadata": {},
   "outputs": [],
   "source": [
    "# Immputation\n",
    "importlib.reload(msv)\n",
    "regressor = 'RF'\n",
    "data_imputed,cols_with_null, regressor_dict, train_mean_mode = msv.my_train_imputer(data=data_encoded, relation_threshold=0.5, regressor = regressor)\n",
    "\n",
    "test_imputed = msv.my_test_imputer(test=test_encoded, regressor_dict=regressor_dict, mean_mode=train_mean_mode)"
   ]
  },
  {
   "cell_type": "code",
   "execution_count": 34,
   "metadata": {},
   "outputs": [],
   "source": [
    "# Feature selection\n",
    "target = 'SalePrice'\n",
    "relation_threshold = 0.5\n",
    "data_full = pd.concat([data_encoded,y],axis=1)\n",
    "cor = data_full.corr()\n",
    "cor_target = abs(cor[target])\n",
    "relevant_feats = cor_target[cor_target > relation_threshold]\n",
    "relevant_feats.drop(target, inplace=True)"
   ]
  },
  {
   "cell_type": "code",
   "execution_count": 44,
   "metadata": {},
   "outputs": [
    {
     "data": {
      "text/plain": [
       "Index(['Alley', 'OverallQual', 'YearBuilt', 'YearRemodAdd', 'ExterQual',\n",
       "       'BsmtQual', 'TotalBsmtSF', '1stFlrSF', 'GrLivArea', 'FullBath',\n",
       "       'KitchenQual', 'TotRmsAbvGrd', 'FireplaceQu', 'GarageFinish',\n",
       "       'GarageCars', 'GarageArea'],\n",
       "      dtype='object')"
      ]
     },
     "execution_count": 44,
     "metadata": {},
     "output_type": "execute_result"
    }
   ],
   "source": [
    "relevant_feats.index"
   ]
  },
  {
   "cell_type": "code",
   "execution_count": 33,
   "metadata": {},
   "outputs": [
    {
     "data": {
      "text/plain": [
       "(1460, 80)"
      ]
     },
     "execution_count": 33,
     "metadata": {},
     "output_type": "execute_result"
    }
   ],
   "source": []
  },
  {
   "cell_type": "code",
   "execution_count": null,
   "metadata": {},
   "outputs": [],
   "source": []
  }
 ],
 "metadata": {
  "kernelspec": {
   "display_name": "Python 3",
   "language": "python",
   "name": "python3"
  },
  "language_info": {
   "codemirror_mode": {
    "name": "ipython",
    "version": 3
   },
   "file_extension": ".py",
   "mimetype": "text/x-python",
   "name": "python",
   "nbconvert_exporter": "python",
   "pygments_lexer": "ipython3",
   "version": "3.9.13 (tags/v3.9.13:6de2ca5, May 17 2022, 16:36:42) [MSC v.1929 64 bit (AMD64)]"
  },
  "orig_nbformat": 4,
  "vscode": {
   "interpreter": {
    "hash": "6063ab1cc3f720cae3af3239125a990df8886e92b71eedd30ddc9a38ac40929b"
   }
  }
 },
 "nbformat": 4,
 "nbformat_minor": 2
}
