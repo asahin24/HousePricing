{
 "cells": [
  {
   "cell_type": "code",
   "execution_count": 14,
   "id": "86736f77-d0bc-42d6-9985-6500fd2b2108",
   "metadata": {},
   "outputs": [],
   "source": [
    "# Import necessary libraries\n",
    "import numpy as np\n",
    "import pandas as pd\n",
    "import matplotlib.pyplot as plt\n",
    "import seaborn as sns\n",
    "import sklearn\n",
    "\n",
    "# Read the training data\n",
    "import os\n",
    "train_file_path = os.getcwd() + '/house-prices-advanced-regression-techniques/train.csv'\n",
    "test_file_path = os.getcwd() + '/house-prices-advanced-regression-techniques/test.csv'\n",
    "train_data = pd.read_csv(train_file_path)\n",
    "test_data = pd.read_csv(test_file_path)"
   ]
  },
  {
   "cell_type": "code",
   "execution_count": 15,
   "id": "88ebda20-ef73-4d75-83dd-6f3247ba4de2",
   "metadata": {},
   "outputs": [
    {
     "name": "stdout",
     "output_type": "stream",
     "text": [
      "(1460, 81)\n",
      "(1459, 80)\n"
     ]
    }
   ],
   "source": [
    "# Print shape of the data\n",
    "print(train_data.shape)\n",
    "print(test_data.shape)"
   ]
  },
  {
   "cell_type": "markdown",
   "id": "fd9594c7-76ab-4b37-b961-c0b194ca2d58",
   "metadata": {},
   "source": [
    "Traing data has 81 columns which is one more than the column number of test data. Extra column is target variable, 'SalePrice'"
   ]
  },
  {
   "cell_type": "markdown",
   "id": "9936e694-50b6-4b0d-8c00-df651825cbf5",
   "metadata": {},
   "source": [
    "Make some data preprocessings."
   ]
  },
  {
   "cell_type": "markdown",
   "id": "35578643-d3b2-44e2-98f3-4b5b899e12f6",
   "metadata": {},
   "source": [
    "Check for missing values"
   ]
  },
  {
   "cell_type": "code",
   "execution_count": 42,
   "id": "df19cb8c-5a0d-409b-a453-1c0c80c0d78d",
   "metadata": {},
   "outputs": [
    {
     "name": "stdout",
     "output_type": "stream",
     "text": [
      "# of features with null values in training data: 19\n",
      "Features with null values in training data:\n",
      "LotFrontage\n",
      "Alley\n",
      "MasVnrType\n",
      "MasVnrArea\n",
      "BsmtQual\n",
      "BsmtCond\n",
      "BsmtExposure\n",
      "BsmtFinType1\n",
      "BsmtFinType2\n",
      "Electrical\n",
      "FireplaceQu\n",
      "GarageType\n",
      "GarageYrBlt\n",
      "GarageFinish\n",
      "GarageQual\n",
      "GarageCond\n",
      "PoolQC\n",
      "Fence\n",
      "MiscFeature\n",
      "\n",
      "\n",
      "\n",
      "# of features with null values in test data: 33\n",
      "Features with null values in test data:\n",
      "MSZoning\n",
      "LotFrontage\n",
      "Alley\n",
      "Utilities\n",
      "Exterior1st\n",
      "Exterior2nd\n",
      "MasVnrType\n",
      "MasVnrArea\n",
      "BsmtQual\n",
      "BsmtCond\n",
      "BsmtExposure\n",
      "BsmtFinType1\n",
      "BsmtFinSF1\n",
      "BsmtFinType2\n",
      "BsmtFinSF2\n",
      "BsmtUnfSF\n",
      "TotalBsmtSF\n",
      "BsmtFullBath\n",
      "BsmtHalfBath\n",
      "KitchenQual\n",
      "Functional\n",
      "FireplaceQu\n",
      "GarageType\n",
      "GarageYrBlt\n",
      "GarageFinish\n",
      "GarageCars\n",
      "GarageArea\n",
      "GarageQual\n",
      "GarageCond\n",
      "PoolQC\n",
      "Fence\n",
      "MiscFeature\n",
      "SaleType\n"
     ]
    }
   ],
   "source": [
    "train_data_features_with_null = []\n",
    "for feature in train_data:\n",
    "    if train_data[feature].isna().sum() > 0:\n",
    "        train_data_features_with_null.append(feature)\n",
    "\n",
    "test_data_features_with_null = []\n",
    "for feature in test_data:\n",
    "    if test_data[feature].isna().sum() > 0:\n",
    "        test_data_features_with_null.append(feature)\n",
    "\n",
    "print('# of features with null values in training data :', len(train_data_features_with_null))\n",
    "print('Features with null values in training data :', *train_data_features_with_null,sep='\\n')\n",
    "print('\\n\\n')\n",
    "print('# of features with null values in test data :', len(test_data_features_with_null))\n",
    "print('Features with null values in test data :', *test_data_features_with_null,sep='\\n')"
   ]
  },
  {
   "cell_type": "markdown",
   "id": "e6419a49-eda3-4fe6-b03a-3042813654f0",
   "metadata": {},
   "source": [
    "Check for the features which have null values in both training and test data."
   ]
  },
  {
   "cell_type": "code",
   "execution_count": 43,
   "id": "3fbaf9c3-0561-497e-9990-ec935495cdf4",
   "metadata": {},
   "outputs": [
    {
     "name": "stdout",
     "output_type": "stream",
     "text": [
      "# of common features containing null values : 18\n",
      "Common features containing null values :\n",
      "LotFrontage\n",
      "Alley\n",
      "MasVnrType\n",
      "MasVnrArea\n",
      "BsmtQual\n",
      "BsmtCond\n",
      "BsmtExposure\n",
      "BsmtFinType1\n",
      "BsmtFinType2\n",
      "FireplaceQu\n",
      "GarageType\n",
      "GarageYrBlt\n",
      "GarageFinish\n",
      "GarageQual\n",
      "GarageCond\n",
      "PoolQC\n",
      "Fence\n",
      "MiscFeature\n"
     ]
    }
   ],
   "source": [
    "common_features_with_null = []\n",
    "for feature in train_data_features_with_null:\n",
    "    if feature in test_data_features_with_null:\n",
    "        common_features_with_null.append(feature)\n",
    "\n",
    "print('# of common features containing null values :', len(common_features_with_null))\n",
    "\n",
    "print('Common features containing null values :', *common_features_with_null, sep = '\\n')"
   ]
  },
  {
   "cell_type": "markdown",
   "id": "bcd4d778-2c02-4da9-b085-dcd0654855e8",
   "metadata": {},
   "source": [
    "Calculate percentage of missing values in training data."
   ]
  },
  {
   "cell_type": "code",
   "execution_count": 138,
   "id": "820a2d34-2505-4297-8f23-c70fea0fd2d6",
   "metadata": {},
   "outputs": [
    {
     "name": "stdout",
     "output_type": "stream",
     "text": [
      "PoolQC  \t\t:  0.9952054794520548\n",
      "MiscFeature  \t\t:  0.963013698630137\n",
      "Alley  \t\t:  0.9376712328767123\n",
      "Fence  \t\t:  0.8075342465753425\n",
      "FireplaceQu  \t\t:  0.4726027397260274\n",
      "LotFrontage  \t\t:  0.1773972602739726\n",
      "GarageType  \t\t:  0.05547945205479452\n",
      "GarageYrBlt  \t\t:  0.05547945205479452\n",
      "GarageFinish  \t\t:  0.05547945205479452\n",
      "GarageQual  \t\t:  0.05547945205479452\n",
      "GarageCond  \t\t:  0.05547945205479452\n",
      "BsmtExposure  \t\t:  0.026027397260273973\n",
      "BsmtFinType2  \t\t:  0.026027397260273973\n",
      "BsmtQual  \t\t:  0.025342465753424658\n",
      "BsmtCond  \t\t:  0.025342465753424658\n",
      "BsmtFinType1  \t\t:  0.025342465753424658\n",
      "MasVnrType  \t\t:  0.005479452054794521\n",
      "MasVnrArea  \t\t:  0.005479452054794521\n",
      "Electrical  \t\t:  0.0006849315068493151\n"
     ]
    }
   ],
   "source": [
    "nan_percent_train = {col : train_data[col].isnull().mean() for col in train_data.columns}\n",
    "nan_percent_train = dict(sorted(nan_percent.items(), key = lambda x: x[1], reverse = True))\n",
    "# Remove features with 0 percent nan values from this list.\n",
    "new_nan_percent_train = {}\n",
    "for (key, value) in nan_percent_train.items():\n",
    "    if value > 0:\n",
    "        new_nan_percent_train[key] = value\n",
    "nan_percent_train = new_nan_percent_train\n",
    "\n",
    "# Print these features\n",
    "for key in nan_percent_train.keys():\n",
    "    print(key,' \\t\\t: ',nan_percent_train[key])"
   ]
  },
  {
   "cell_type": "markdown",
   "id": "31f49767-28e0-40d0-b7d8-0f750b3ab995",
   "metadata": {},
   "source": [
    "Calculate percentage of missing values in training data."
   ]
  },
  {
   "cell_type": "code",
   "execution_count": 139,
   "id": "3f5ef346-e078-4663-8057-939d24be16e0",
   "metadata": {},
   "outputs": [
    {
     "name": "stdout",
     "output_type": "stream",
     "text": [
      "PoolQC  \t\t:  0.9952054794520548\n",
      "MiscFeature  \t\t:  0.963013698630137\n",
      "Alley  \t\t:  0.9376712328767123\n",
      "Fence  \t\t:  0.8075342465753425\n",
      "FireplaceQu  \t\t:  0.4726027397260274\n",
      "LotFrontage  \t\t:  0.1773972602739726\n",
      "GarageType  \t\t:  0.05547945205479452\n",
      "GarageYrBlt  \t\t:  0.05547945205479452\n",
      "GarageFinish  \t\t:  0.05547945205479452\n",
      "GarageQual  \t\t:  0.05547945205479452\n",
      "GarageCond  \t\t:  0.05547945205479452\n",
      "BsmtExposure  \t\t:  0.026027397260273973\n",
      "BsmtFinType2  \t\t:  0.026027397260273973\n",
      "BsmtQual  \t\t:  0.025342465753424658\n",
      "BsmtCond  \t\t:  0.025342465753424658\n",
      "BsmtFinType1  \t\t:  0.025342465753424658\n",
      "MasVnrType  \t\t:  0.005479452054794521\n",
      "MasVnrArea  \t\t:  0.005479452054794521\n",
      "Electrical  \t\t:  0.0006849315068493151\n"
     ]
    }
   ],
   "source": [
    "nan_percent_test = {col : train_data[col].isnull().mean() for col in train_data.columns}\n",
    "nan_percent_test = dict(sorted(nan_percent_test.items(), key = lambda x: x[1], reverse = True))\n",
    "# Remove features with 0 percent nan values from this list.\n",
    "new_nan_percent_test = {}\n",
    "for (key, value) in nan_percent_test.items():\n",
    "    if value > 0:\n",
    "        new_nan_percent_test[key] = value\n",
    "nan_percent_test = new_nan_percent_test\n",
    "\n",
    "# Print these features\n",
    "for key in nan_percent_test.keys():\n",
    "    print(key,' \\t\\t: ',nan_percent_test[key])"
   ]
  },
  {
   "cell_type": "markdown",
   "id": "be8a254a-8543-4848-a862-7df31cf2e792",
   "metadata": {},
   "source": [
    "Drop the features with percentage of nan values greater than 50."
   ]
  },
  {
   "cell_type": "code",
   "execution_count": 140,
   "id": "7ed94d88-0c6d-44e3-aa74-9523cda9231d",
   "metadata": {},
   "outputs": [],
   "source": [
    "high_nan_percent = {}\n",
    "for (key, value) in nan_percent_train.items():\n",
    "    if value > 0.5 or nan_percent_test[key] > 0.5:\n",
    "        high_nan_percent[key] = value"
   ]
  },
  {
   "cell_type": "code",
   "execution_count": 141,
   "id": "d1f449e8-602c-46b6-af35-dfdba91de6f6",
   "metadata": {},
   "outputs": [],
   "source": [
    "reduced_train_data = train_data.drop(list(high_nan_percent), axis = 'columns')\n",
    "reduced_test_data = test_data.drop(list(high_nan_percent), axis = 'columns')\n",
    "#reduced_test_data = test_data.copy()\n",
    "#for (key, value) in nan_percent:\n",
    "#    if value > 0.5:\n",
    "#        reduced_train_data.drop"
   ]
  },
  {
   "cell_type": "code",
   "execution_count": 142,
   "id": "2b45227a-cbb3-4a7c-827c-ae01335ac17c",
   "metadata": {},
   "outputs": [
    {
     "name": "stdout",
     "output_type": "stream",
     "text": [
      "(1460, 77)\n",
      "(1459, 76)\n"
     ]
    }
   ],
   "source": [
    "print(reduced_train_data.shape)\n",
    "print(reduced_test_data.shape)"
   ]
  },
  {
   "cell_type": "code",
   "execution_count": null,
   "id": "8b8a45b1-989f-4bef-8f74-908531743cb2",
   "metadata": {},
   "outputs": [],
   "source": []
  }
 ],
 "metadata": {
  "kernelspec": {
   "display_name": "Python 3 (ipykernel)",
   "language": "python",
   "name": "python3"
  },
  "language_info": {
   "codemirror_mode": {
    "name": "ipython",
    "version": 3
   },
   "file_extension": ".py",
   "mimetype": "text/x-python",
   "name": "python",
   "nbconvert_exporter": "python",
   "pygments_lexer": "ipython3",
   "version": "3.8.10"
  }
 },
 "nbformat": 4,
 "nbformat_minor": 5
}
